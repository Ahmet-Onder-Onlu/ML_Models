{
  "nbformat": 4,
  "nbformat_minor": 0,
  "metadata": {
    "colab": {
      "provenance": [],
      "authorship_tag": "ABX9TyMnsxUo/j/JcS/81UNXiUnL",
      "include_colab_link": true
    },
    "kernelspec": {
      "name": "python3",
      "display_name": "Python 3"
    },
    "language_info": {
      "name": "python"
    }
  },
  "cells": [
    {
      "cell_type": "markdown",
      "metadata": {
        "id": "view-in-github",
        "colab_type": "text"
      },
      "source": [
        "<a href=\"https://colab.research.google.com/github/Ahmet-Onder-Onlu/ML_Models/blob/main/sparkMachineLearning.ipynb\" target=\"_parent\"><img src=\"https://colab.research.google.com/assets/colab-badge.svg\" alt=\"Open In Colab\"/></a>"
      ]
    },
    {
      "cell_type": "markdown",
      "source": [
        "## **Veri setinin hazırlanması**"
      ],
      "metadata": {
        "id": "yURukr49CEqy"
      }
    },
    {
      "cell_type": "markdown",
      "source": [
        "### **Kaggle api key üzerinden verinin çekilmesi ve analizi**"
      ],
      "metadata": {
        "id": "BjbviqWuCQYu"
      }
    },
    {
      "cell_type": "code",
      "source": [
        "# Drive' a bağlantı sağlandı\n",
        "from google.colab import drive\n",
        "drive.mount('/content/drive')"
      ],
      "metadata": {
        "colab": {
          "base_uri": "https://localhost:8080/"
        },
        "id": "cjfZt-Cygokk",
        "outputId": "87dd8362-878d-4fe7-beb6-8dec2bbb47c7"
      },
      "execution_count": 1,
      "outputs": [
        {
          "output_type": "stream",
          "name": "stdout",
          "text": [
            "Mounted at /content/drive\n"
          ]
        }
      ]
    },
    {
      "cell_type": "markdown",
      "source": [
        "Drive üzerinde gerekli klasör yapıları oluşturuldu"
      ],
      "metadata": {
        "id": "fnAM8uNpCedx"
      }
    },
    {
      "cell_type": "code",
      "source": [
        "#!mkdir /content/drive/MyDrive/sparkML"
      ],
      "metadata": {
        "id": "w9AXl6WogpH4"
      },
      "execution_count": 2,
      "outputs": []
    },
    {
      "cell_type": "code",
      "source": [
        "#!mkdir /content/drive/MyDrive/sparkML/kaggle"
      ],
      "metadata": {
        "id": "p5MEAeS_mvhT"
      },
      "execution_count": null,
      "outputs": []
    },
    {
      "cell_type": "code",
      "source": [
        "#!mkdir /content/drive/MyDrive/sparkML/data"
      ],
      "metadata": {
        "id": "FmzstwghmydL"
      },
      "execution_count": 7,
      "outputs": []
    },
    {
      "cell_type": "markdown",
      "source": [
        "root yoluna .kaggle dizini yoksa eklendi ve kaggle.json dosyası drive üzerinden bu dizin altına kopyalandı. Böylece kaggle'dan veri seti çekmek için bu json dosyası kullanılacak."
      ],
      "metadata": {
        "id": "_vRW2SSSCswO"
      }
    },
    {
      "cell_type": "code",
      "source": [
        "import os\n",
        "import shutil\n",
        "\n",
        "# Ensure the .kaggle directory exists\n",
        "os.makedirs(\"/root/.kaggle\", exist_ok=True)\n",
        "\n",
        "# Copy kaggle.json from Google Drive\n",
        "shutil.copy(\"/content/drive/MyDrive/sparkML/kaggle/kaggle.json\", \"/root/.kaggle/kaggle.json\")\n",
        "\n",
        "# Set correct permissions\n",
        "os.chmod(\"/root/.kaggle/kaggle.json\", 600)\n"
      ],
      "metadata": {
        "id": "43LLLnylhI47"
      },
      "execution_count": 3,
      "outputs": []
    },
    {
      "cell_type": "markdown",
      "source": [
        "Daha kalıcı olması adına ortam değişkeni olarak ayarlandı."
      ],
      "metadata": {
        "id": "GiOCJmQMDKI4"
      }
    },
    {
      "cell_type": "code",
      "source": [
        "os.environ[\"KAGGLE_CONFIG_DIR\"] = \"/content/drive/MyDrive/sparkML/kaggle\""
      ],
      "metadata": {
        "id": "J1EpS6Q_mEsr"
      },
      "execution_count": 6,
      "outputs": []
    },
    {
      "cell_type": "code",
      "source": [
        "# Kaggle kütüphanesi\n",
        "!pip install kaggle"
      ],
      "metadata": {
        "colab": {
          "base_uri": "https://localhost:8080/"
        },
        "id": "syJHC4syi3Ms",
        "outputId": "f13d2e8b-15c1-4ef8-b627-304fd95ff134"
      },
      "execution_count": 4,
      "outputs": [
        {
          "output_type": "stream",
          "name": "stdout",
          "text": [
            "Requirement already satisfied: kaggle in /usr/local/lib/python3.11/dist-packages (1.6.17)\n",
            "Requirement already satisfied: six>=1.10 in /usr/local/lib/python3.11/dist-packages (from kaggle) (1.17.0)\n",
            "Requirement already satisfied: certifi>=2023.7.22 in /usr/local/lib/python3.11/dist-packages (from kaggle) (2025.1.31)\n",
            "Requirement already satisfied: python-dateutil in /usr/local/lib/python3.11/dist-packages (from kaggle) (2.8.2)\n",
            "Requirement already satisfied: requests in /usr/local/lib/python3.11/dist-packages (from kaggle) (2.32.3)\n",
            "Requirement already satisfied: tqdm in /usr/local/lib/python3.11/dist-packages (from kaggle) (4.67.1)\n",
            "Requirement already satisfied: python-slugify in /usr/local/lib/python3.11/dist-packages (from kaggle) (8.0.4)\n",
            "Requirement already satisfied: urllib3 in /usr/local/lib/python3.11/dist-packages (from kaggle) (2.3.0)\n",
            "Requirement already satisfied: bleach in /usr/local/lib/python3.11/dist-packages (from kaggle) (6.2.0)\n",
            "Requirement already satisfied: webencodings in /usr/local/lib/python3.11/dist-packages (from bleach->kaggle) (0.5.1)\n",
            "Requirement already satisfied: text-unidecode>=1.3 in /usr/local/lib/python3.11/dist-packages (from python-slugify->kaggle) (1.3)\n",
            "Requirement already satisfied: charset-normalizer<4,>=2 in /usr/local/lib/python3.11/dist-packages (from requests->kaggle) (3.4.1)\n",
            "Requirement already satisfied: idna<4,>=2.5 in /usr/local/lib/python3.11/dist-packages (from requests->kaggle) (3.10)\n"
          ]
        }
      ]
    },
    {
      "cell_type": "code",
      "source": [
        "!kaggle datasets list"
      ],
      "metadata": {
        "colab": {
          "base_uri": "https://localhost:8080/"
        },
        "id": "sNxrPxxAj96j",
        "outputId": "78b216d0-6a8b-4ee8-d05e-af1971169ea8"
      },
      "execution_count": 5,
      "outputs": [
        {
          "output_type": "stream",
          "name": "stdout",
          "text": [
            "ref                                                            title                                                size  lastUpdated          downloadCount  voteCount  usabilityRating  \n",
            "-------------------------------------------------------------  --------------------------------------------------  -----  -------------------  -------------  ---------  ---------------  \n",
            "asinow/car-price-dataset                                       Car Price Dataset                                   135KB  2025-01-26 19:53:28           9847        137  1.0              \n",
            "anandshaw2001/netflix-movies-and-tv-shows                      Netflix Movies and TV Shows                           1MB  2025-01-03 10:33:01          18570        467  1.0              \n",
            "sgoutami/spotify-streaming-history                             Spotify Streaming History                             6MB  2025-01-25 05:14:49           1981         34  1.0              \n",
            "samithsachidanandan/most-popular-1000-youtube-videos           Most popular 1000 Youtube videos                     42KB  2025-01-27 18:36:29           2641         49  1.0              \n",
            "mzohaibzeeshan/thyroid-cancer-risk-dataset                     Thyroid Cancer Risk Dataset                           4MB  2025-02-09 14:55:47            716         21  1.0              \n",
            "adilshamim8/education-and-career-success                       Education & Career Success.                         118KB  2025-02-03 05:24:20           1900         30  1.0              \n",
            "ruchikakumbhar/zomato-dataset                                  Zomato Dataset                                        2KB  2025-01-21 03:59:39           3896         64  1.0              \n",
            "asinow/laptop-price-dataset                                    Laptop Price Dataset                                181KB  2025-02-01 04:20:16           2548         56  1.0              \n",
            "ruchikakumbhar/calories-burnt-prediction                       Calories Burnt Prediction                           236KB  2025-01-20 06:00:34           1265         23  1.0              \n",
            "hosammhmdali/supermarket-sales                                 Supermarket Sales                                    36KB  2025-02-06 11:42:07           1478         26  0.7058824        \n",
            "willianoliveiragibin/type-of-the-diamond                       type of the Diamond                                 581KB  2025-01-29 22:02:56            945         26  1.0              \n",
            "andrexibiza/grocery-sales-dataset                              Grocery Sales Database                              223MB  2025-01-31 19:04:00           2429         48  1.0              \n",
            "hopesb/hr-analytics-dataset                                    HR Analytics Dataset                                418KB  2025-01-18 23:07:46           1383         27  1.0              \n",
            "dnkumars/cybersecurity-intrusion-detection-dataset             Cybersecurity 🪪 Intrusion 🦠 Detection Dataset       261KB  2025-02-10 07:47:42            447         26  1.0              \n",
            "kushagraddata/covid-pandemic-varients                          Covid_Pandemic_Varients                              21KB  2025-02-07 11:42:16            415         27  1.0              \n",
            "vivekattri/california-wildfire-damage-2014-feb2025             California Wildfire Damage (2014-(feb)2025)           3KB  2025-02-05 10:05:12           1355         34  0.9411765        \n",
            "ziya07/transaction-data-for-banking-operations                 Transaction Data for Banking Operations              32KB  2025-01-20 08:13:45           1424         22  0.9411765        \n",
            "oktayrdeki/traffic-accidents                                   Traffic Accidents                                     5MB  2025-01-20 10:33:44           4307         77  1.0              \n",
            "dansbecker/melbourne-housing-snapshot                          Melbourne Housing Snapshot                          451KB  2018-06-05 12:52:24         171093       1573  0.7058824        \n",
            "panaaaaa/english-premier-league-and-championship-full-dataset  English Premier League & Championship Full Dataset  437KB  2025-01-28 23:00:54           1069         30  1.0              \n"
          ]
        }
      ]
    },
    {
      "cell_type": "code",
      "source": [
        "# Yukarıdaki kaggle veri setleri arasından istediğimiz veri setinin çekilme işlemi\n",
        "!kaggle datasets download -d camnugent/california-housing-prices"
      ],
      "metadata": {
        "colab": {
          "base_uri": "https://localhost:8080/"
        },
        "id": "8miXbVuQlW-p",
        "outputId": "bb6d3b1e-cf9b-4925-df5e-263d5cbcde93"
      },
      "execution_count": 8,
      "outputs": [
        {
          "output_type": "stream",
          "name": "stdout",
          "text": [
            "Dataset URL: https://www.kaggle.com/datasets/camnugent/california-housing-prices\n",
            "License(s): CC0-1.0\n",
            "Downloading california-housing-prices.zip to /content\n",
            "100% 400k/400k [00:00<00:00, 684kB/s]\n",
            "100% 400k/400k [00:00<00:00, 683kB/s]\n"
          ]
        }
      ]
    },
    {
      "cell_type": "code",
      "source": [
        "# İndirilen zip veri seti dosyasının drive cloud üzerine çıkarılması\n",
        "\n",
        "import zipfile\n",
        "\n",
        "with zipfile.ZipFile(\"california-housing-prices.zip\", 'r') as zip_ref:\n",
        "    zip_ref.extractall(\"/content/drive/MyDrive/sparkML/data/california-housing-prices-dataset\")  # Extract to \"dataset\" folders"
      ],
      "metadata": {
        "id": "cMUv1a_HmZNd"
      },
      "execution_count": 9,
      "outputs": []
    },
    {
      "cell_type": "markdown",
      "source": [
        "https://spark.apache.org/docs/latest/ml-classification-regression.html\n",
        "(Dökümanın okunması işlemi)"
      ],
      "metadata": {
        "id": "8LUAJGtzsz1r"
      }
    },
    {
      "cell_type": "code",
      "source": [
        "# Dökümantasyonu okuyup gerekli görülen kütüphanelerin import edilme işleminin gerçekleştirilmesi\n",
        "\n",
        "from pyspark.sql import SparkSession\n",
        "from pyspark.sql.types import *\n",
        "from pyspark.sql.functions import *\n",
        "from pyspark.ml import Pipeline\n",
        "from pyspark.ml.regression import LinearRegression, RandomForestRegressor, GBTRegressor, GeneralizedLinearRegression\n",
        "from pyspark.ml.feature import VectorAssembler, StringIndexer, VectorIndexer, MinMaxScaler, Imputer\n",
        "from pyspark.ml.tuning import ParamGridBuilder, CrossValidator\n",
        "from pyspark.ml.evaluation import RegressionEvaluator"
      ],
      "metadata": {
        "id": "3g4TRwA7pIlb"
      },
      "execution_count": 39,
      "outputs": []
    },
    {
      "cell_type": "markdown",
      "source": [
        "İşlemlere başlamadan önce spark session oluşturuldu. Ve veri seti dataframe formatında okundu. Daha sonrasında veri seti analizi için satır sütun sayıları veri türleri, temel istatistiksel değerleri ve NoNe değer analizi yapıldı."
      ],
      "metadata": {
        "id": "b4qcxPSVD62U"
      }
    },
    {
      "cell_type": "code",
      "source": [
        "# Spark oturumunu başlat\n",
        "spark = SparkSession.builder.appName(\"CaliforniaHousing\").getOrCreate()\n",
        "\n",
        "# CSV dosyasını Spark DataFrame olarak oku\n",
        "df_housing = spark.read.csv(\"/content/drive/MyDrive/sparkML/data/california-housing-prices-dataset/housing.csv\",\n",
        "                            header=True, inferSchema=True)\n",
        "\n",
        "# İlk birkaç satırı göster (Spark DataFrame'de .show() kullanılır)\n",
        "df_housing.show(5)\n",
        "\n",
        "# Veri setinin satır ve sütun sayısını öğren\n",
        "print(f\"Satır Sayısı: {df_housing.count()}, Sütun Sayısı: {len(df_housing.columns)}\")\n",
        "\n",
        "# Veri yapısını göster\n",
        "df_housing.printSchema()\n",
        "\n",
        "# Temel istatistikleri göster (describe metodu ile)\n",
        "df_housing.describe().show()"
      ],
      "metadata": {
        "colab": {
          "base_uri": "https://localhost:8080/"
        },
        "id": "R-0ZKbIX1w4j",
        "outputId": "735cb20a-cf81-443a-d215-d89e038b870e"
      },
      "execution_count": 37,
      "outputs": [
        {
          "output_type": "stream",
          "name": "stdout",
          "text": [
            "+---------+--------+------------------+-----------+--------------+----------+----------+-------------+------------------+---------------+\n",
            "|longitude|latitude|housing_median_age|total_rooms|total_bedrooms|population|households|median_income|median_house_value|ocean_proximity|\n",
            "+---------+--------+------------------+-----------+--------------+----------+----------+-------------+------------------+---------------+\n",
            "|  -122.23|   37.88|              41.0|      880.0|         129.0|     322.0|     126.0|       8.3252|          452600.0|       NEAR BAY|\n",
            "|  -122.22|   37.86|              21.0|     7099.0|        1106.0|    2401.0|    1138.0|       8.3014|          358500.0|       NEAR BAY|\n",
            "|  -122.24|   37.85|              52.0|     1467.0|         190.0|     496.0|     177.0|       7.2574|          352100.0|       NEAR BAY|\n",
            "|  -122.25|   37.85|              52.0|     1274.0|         235.0|     558.0|     219.0|       5.6431|          341300.0|       NEAR BAY|\n",
            "|  -122.25|   37.85|              52.0|     1627.0|         280.0|     565.0|     259.0|       3.8462|          342200.0|       NEAR BAY|\n",
            "+---------+--------+------------------+-----------+--------------+----------+----------+-------------+------------------+---------------+\n",
            "only showing top 5 rows\n",
            "\n",
            "Satır Sayısı: 20640, Sütun Sayısı: 10\n",
            "root\n",
            " |-- longitude: double (nullable = true)\n",
            " |-- latitude: double (nullable = true)\n",
            " |-- housing_median_age: double (nullable = true)\n",
            " |-- total_rooms: double (nullable = true)\n",
            " |-- total_bedrooms: double (nullable = true)\n",
            " |-- population: double (nullable = true)\n",
            " |-- households: double (nullable = true)\n",
            " |-- median_income: double (nullable = true)\n",
            " |-- median_house_value: double (nullable = true)\n",
            " |-- ocean_proximity: string (nullable = true)\n",
            "\n",
            "+-------+-------------------+-----------------+------------------+------------------+------------------+------------------+-----------------+------------------+------------------+---------------+\n",
            "|summary|          longitude|         latitude|housing_median_age|       total_rooms|    total_bedrooms|        population|       households|     median_income|median_house_value|ocean_proximity|\n",
            "+-------+-------------------+-----------------+------------------+------------------+------------------+------------------+-----------------+------------------+------------------+---------------+\n",
            "|  count|              20640|            20640|             20640|             20640|             20433|             20640|            20640|             20640|             20640|          20640|\n",
            "|   mean|-119.56970445736148| 35.6318614341087|28.639486434108527|2635.7630813953488| 537.8705525375618|1425.4767441860465|499.5396802325581|3.8706710029070246|206855.81690891474|           NULL|\n",
            "| stddev|  2.003531723502584|2.135952397457101| 12.58555761211163|2181.6152515827944|421.38507007403115|  1132.46212176534|382.3297528316098| 1.899821717945263|115395.61587441359|           NULL|\n",
            "|    min|            -124.35|            32.54|               1.0|               2.0|               1.0|               3.0|              1.0|            0.4999|           14999.0|      <1H OCEAN|\n",
            "|    max|            -114.31|            41.95|              52.0|           39320.0|            6445.0|           35682.0|           6082.0|           15.0001|          500001.0|     NEAR OCEAN|\n",
            "+-------+-------------------+-----------------+------------------+------------------+------------------+------------------+-----------------+------------------+------------------+---------------+\n",
            "\n"
          ]
        }
      ]
    },
    {
      "cell_type": "markdown",
      "source": [
        "Boş değerler içeren sütunun dağılım grafiği çizildi ve biraz sağa çarpık olduğu tespit edildi. Dolayısıyla ortalama ile dolduramak yanıltıcı sonuç vereceğinden medyan kullanarak boş değerlerin doldurulması kararı alındı."
      ],
      "metadata": {
        "id": "jci76oSkEpvl"
      }
    },
    {
      "cell_type": "code",
      "source": [
        "import matplotlib.pyplot as plt\n",
        "\n",
        "# Spark DataFrame'i Pandas'a dönüştür (Pandas kütüphanesi fonksiyonları kullanabilmek için)\n",
        "df_pandas = df_housing.select(\"total_bedrooms\").toPandas()\n",
        "\n",
        "# Histogramı çiz\n",
        "plt.figure(figsize=(8, 5))\n",
        "plt.hist(df_pandas[\"total_bedrooms\"].dropna(), bins=50, color=\"blue\", alpha=0.7)\n",
        "plt.axvline(df_pandas[\"total_bedrooms\"].mean(), color='red', linestyle='dashed', linewidth=2, label=f\"Mean: {df_pandas['total_bedrooms'].mean():.2f}\")\n",
        "plt.axvline(df_pandas[\"total_bedrooms\"].median(), color='green', linestyle='dashed', linewidth=2, label=f\"Median: {df_pandas['total_bedrooms'].median():.2f}\")\n",
        "plt.xlabel(\"Total Bedrooms\")\n",
        "plt.ylabel(\"Frequency\")\n",
        "plt.title(\"Histogram of Total Bedrooms\")\n",
        "plt.legend()\n",
        "plt.show()"
      ],
      "metadata": {
        "colab": {
          "base_uri": "https://localhost:8080/",
          "height": 487
        },
        "id": "vE9tpzwz2JRR",
        "outputId": "c2a2ed3e-a52e-4bd4-a52e-6d3b2ecbf70b"
      },
      "execution_count": 33,
      "outputs": [
        {
          "output_type": "display_data",
          "data": {
            "text/plain": [
              "<Figure size 800x500 with 1 Axes>"
            ],
            "image/png": "[encoded data removed]"
          },
          "metadata": {}
        }
      ]
    },
    {
      "cell_type": "markdown",
      "source": [
        "### Imputing, StringIndexer, VectorAssembler yöntemlerinin uygulanması"
      ],
      "metadata": {
        "id": "FS2HBAmFE73P"
      }
    },
    {
      "cell_type": "code",
      "source": [
        "# Imputer (Eksik verileri median ile doldurma)\n",
        "imputer = Imputer(inputCols=[\"total_bedrooms\"], outputCols=[\"total_bedrooms_imputed\"]).setStrategy(\"median\")\n",
        "\n",
        "# Eksik verileri doldur\n",
        "df_housing = imputer.fit(df_housing).transform(df_housing)\n",
        "\n",
        "# Doldurulan sütunu kontrol et\n",
        "df_housing.select(\"total_bedrooms\", \"total_bedrooms_imputed\").show(5)"
      ],
      "metadata": {
        "colab": {
          "base_uri": "https://localhost:8080/"
        },
        "id": "UIzSkFEM7URG",
        "outputId": "21dc7268-61ff-4a98-c71c-13e246d0cb0e"
      },
      "execution_count": 34,
      "outputs": [
        {
          "output_type": "stream",
          "name": "stdout",
          "text": [
            "+--------------+----------------------+\n",
            "|total_bedrooms|total_bedrooms_imputed|\n",
            "+--------------+----------------------+\n",
            "|         129.0|                 129.0|\n",
            "|        1106.0|                1106.0|\n",
            "|         190.0|                 190.0|\n",
            "|         235.0|                 235.0|\n",
            "|         280.0|                 280.0|\n",
            "+--------------+----------------------+\n",
            "only showing top 5 rows\n",
            "\n"
          ]
        }
      ]
    },
    {
      "cell_type": "code",
      "source": [
        "# StringIndexer ile \"ocean_proximity\" kategorik değişkenini sayısala çeviriyoruz\n",
        "indexer = StringIndexer(inputCol=\"ocean_proximity\", outputCol=\"ocean_proximity_indexed\")\n",
        "\n",
        "# Dönüştürme işlemi\n",
        "df_housing = indexer.fit(df_housing).transform(df_housing)\n",
        "\n",
        "# Sonuçları göster\n",
        "df_housing.select(\"ocean_proximity\", \"ocean_proximity_indexed\").show(5)"
      ],
      "metadata": {
        "colab": {
          "base_uri": "https://localhost:8080/"
        },
        "id": "onsKh2vT7x0z",
        "outputId": "c48d549a-da1a-4460-e9e0-63a2fd172733"
      },
      "execution_count": 35,
      "outputs": [
        {
          "output_type": "stream",
          "name": "stdout",
          "text": [
            "+---------------+-----------------------+\n",
            "|ocean_proximity|ocean_proximity_indexed|\n",
            "+---------------+-----------------------+\n",
            "|       NEAR BAY|                    3.0|\n",
            "|       NEAR BAY|                    3.0|\n",
            "|       NEAR BAY|                    3.0|\n",
            "|       NEAR BAY|                    3.0|\n",
            "|       NEAR BAY|                    3.0|\n",
            "+---------------+-----------------------+\n",
            "only showing top 5 rows\n",
            "\n"
          ]
        }
      ]
    },
    {
      "cell_type": "code",
      "source": [
        "# Kullanılacak özellikler (label hariç tüm sayısal sütunlar)\n",
        "feature_columns = [\"longitude\", \"latitude\", \"housing_median_age\", \"total_rooms\",\n",
        "                   \"total_bedrooms_imputed\", \"population\", \"households\",\n",
        "                   \"median_income\", \"ocean_proximity_indexed\"]\n",
        "\n",
        "# VectorAssembler ile sütunları tek bir vektör haline getiriyoruz\n",
        "vector_assembler = VectorAssembler(inputCols=feature_columns, outputCol=\"features\")\n",
        "\n",
        "# Dönüştürme işlemi\n",
        "df_housing = vector_assembler.transform(df_housing)\n",
        "\n",
        "# Sonuçları göster\n",
        "df_housing.select(\"features\").show(truncate=False, n=5)"
      ],
      "metadata": {
        "colab": {
          "base_uri": "https://localhost:8080/"
        },
        "id": "PpQUzZXV8hsm",
        "outputId": "28254bd7-9553-472d-e7c7-f6421fe177f0"
      },
      "execution_count": 30,
      "outputs": [
        {
          "output_type": "stream",
          "name": "stdout",
          "text": [
            "+-----------------------------------------------------------+\n",
            "|features                                                   |\n",
            "+-----------------------------------------------------------+\n",
            "|[-122.23,37.88,41.0,880.0,129.0,322.0,126.0,8.3252,3.0]    |\n",
            "|[-122.22,37.86,21.0,7099.0,1106.0,2401.0,1138.0,8.3014,3.0]|\n",
            "|[-122.24,37.85,52.0,1467.0,190.0,496.0,177.0,7.2574,3.0]   |\n",
            "|[-122.25,37.85,52.0,1274.0,235.0,558.0,219.0,5.6431,3.0]   |\n",
            "|[-122.25,37.85,52.0,1627.0,280.0,565.0,259.0,3.8462,3.0]   |\n",
            "+-----------------------------------------------------------+\n",
            "only showing top 5 rows\n",
            "\n"
          ]
        }
      ]
    },
    {
      "cell_type": "markdown",
      "source": [
        "## Pipeline Oluşturma ve Modellerin Test Edilip Değerlendirilmesi"
      ],
      "metadata": {
        "id": "thntYkn2MouV"
      }
    },
    {
      "cell_type": "markdown",
      "source": [
        "Yaptığımız tüm process işlemlerinin bir pipeline altında toplanma  işlemi ve bu pipeline'ı kullanarak model üzerinde test edilecek. Tabiki veri setini baştan okuduk yukarıdaki işlemler ayrı ayrı gözlemlemek için oluşturuldu."
      ],
      "metadata": {
        "id": "Ym6T-7jKMy_I"
      }
    },
    {
      "cell_type": "code",
      "source": [
        "# Eksik değerleri doldurma (median veya mean seçebilirsiniz)\n",
        "imputer = Imputer(inputCols=[\"total_bedrooms\"], outputCols=[\"total_bedrooms_imputed\"]).setStrategy(\"median\")\n",
        "\n",
        "# Kategorik değişkenleri sayısallaştırma (StringIndexer)\n",
        "indexer = StringIndexer(inputCol=\"ocean_proximity\", outputCol=\"ocean_proximity_indexed\")\n",
        "\n",
        "# Kullanılacak özellikler (label hariç tüm sayısal sütunlar)\n",
        "feature_columns = [\"longitude\", \"latitude\", \"housing_median_age\", \"total_rooms\",\n",
        "                   \"total_bedrooms_imputed\", \"population\", \"households\",\n",
        "                   \"median_income\", \"ocean_proximity_indexed\"]\n",
        "\n",
        "# Özellikleri tek vektöre dönüştürme (VectorAssembler)\n",
        "vector_assembler = VectorAssembler(inputCols=feature_columns, outputCol=\"features\")\n",
        "\n",
        "# Pipeline adımlarını belirleme\n",
        "pipeline = Pipeline(stages=[imputer, indexer, vector_assembler])\n",
        "\n",
        "# Pipeline'ı veriye uygula\n",
        "df_transformed = pipeline.fit(df_housing).transform(df_housing)\n",
        "\n",
        "# Sonucu incele\n",
        "df_transformed.select(\"features\", \"median_house_value\").show(5, truncate=False)"
      ],
      "metadata": {
        "colab": {
          "base_uri": "https://localhost:8080/"
        },
        "id": "B90obwGz81Lu",
        "outputId": "689ebe12-e636-488b-d653-a335eb3d3bc1"
      },
      "execution_count": 38,
      "outputs": [
        {
          "output_type": "stream",
          "name": "stdout",
          "text": [
            "+-----------------------------------------------------------+------------------+\n",
            "|features                                                   |median_house_value|\n",
            "+-----------------------------------------------------------+------------------+\n",
            "|[-122.23,37.88,41.0,880.0,129.0,322.0,126.0,8.3252,3.0]    |452600.0          |\n",
            "|[-122.22,37.86,21.0,7099.0,1106.0,2401.0,1138.0,8.3014,3.0]|358500.0          |\n",
            "|[-122.24,37.85,52.0,1467.0,190.0,496.0,177.0,7.2574,3.0]   |352100.0          |\n",
            "|[-122.25,37.85,52.0,1274.0,235.0,558.0,219.0,5.6431,3.0]   |341300.0          |\n",
            "|[-122.25,37.85,52.0,1627.0,280.0,565.0,259.0,3.8462,3.0]   |342200.0          |\n",
            "+-----------------------------------------------------------+------------------+\n",
            "only showing top 5 rows\n",
            "\n"
          ]
        }
      ]
    },
    {
      "cell_type": "markdown",
      "source": [
        "GridSeach yöntemini kullanacağımız için modellerin ve parametrelerinin tanımlanması."
      ],
      "metadata": {
        "id": "-g5WKVF7NGCO"
      }
    },
    {
      "cell_type": "code",
      "source": [
        "# Modelleri tanımla\n",
        "models = {\n",
        "    \"LinearRegression\": LinearRegression(featuresCol=\"features\", labelCol=\"median_house_value\"),\n",
        "    \"RandomForest\": RandomForestRegressor(featuresCol=\"features\", labelCol=\"median_house_value\"),\n",
        "    \"GBTRegressor\": GBTRegressor(featuresCol=\"features\", labelCol=\"median_house_value\"),\n",
        "    \"GeneralizedLinearRegression\": GeneralizedLinearRegression(featuresCol=\"features\", labelCol=\"median_house_value\")\n",
        "}\n",
        "\n",
        "# Hiperparametre Grid’i oluşturdum\n",
        "param_grids = {\n",
        "    \"LinearRegression\": ParamGridBuilder()\n",
        "        .addGrid(models[\"LinearRegression\"].regParam, [0.1, 0.01])\n",
        "        .addGrid(models[\"LinearRegression\"].elasticNetParam, [0.0, 0.5, 1.0])\n",
        "        .build(),\n",
        "\n",
        "    \"RandomForest\": ParamGridBuilder()\n",
        "        .addGrid(models[\"RandomForest\"].numTrees, [10, 50])\n",
        "        .addGrid(models[\"RandomForest\"].maxDepth, [5, 10])\n",
        "        .build(),\n",
        "\n",
        "    \"GBTRegressor\": ParamGridBuilder()\n",
        "        .addGrid(models[\"GBTRegressor\"].maxIter, [10, 50])\n",
        "        .addGrid(models[\"GBTRegressor\"].maxDepth, [5, 10])\n",
        "        .build(),\n",
        "\n",
        "    \"GeneralizedLinearRegression\": ParamGridBuilder()\n",
        "        .addGrid(models[\"GeneralizedLinearRegression\"].regParam, [0.1, 0.01])\n",
        "        .build()\n",
        "}"
      ],
      "metadata": {
        "id": "0KwRrsYC9Qmj"
      },
      "execution_count": 40,
      "outputs": []
    },
    {
      "cell_type": "markdown",
      "source": [
        "Modellerin gridsearch mantığını kullanarak ayrıca crossvalidation yöntemini kullanmak için veri setimi 3 fold'a böldüm. Daha sonrasında her birinde en iyi modeli seçtim."
      ],
      "metadata": {
        "id": "Cnn1FJt8Nbup"
      }
    },
    {
      "cell_type": "code",
      "source": [
        "best_models = {}\n",
        "\n",
        "for model_name, model in models.items():\n",
        "    print(f\"{model_name} modeli eğitiliyor...\")\n",
        "\n",
        "    # Evaluator (RMSE ile değerlendirme)\n",
        "    evaluator = RegressionEvaluator(labelCol=\"median_house_value\", metricName=\"rmse\")\n",
        "\n",
        "    # CrossValidator kullanımı\n",
        "    crossval = CrossValidator(\n",
        "        estimator=Pipeline(stages=[imputer, indexer, vector_assembler, model]),\n",
        "        estimatorParamMaps=param_grids[model_name],\n",
        "        evaluator=evaluator,\n",
        "        numFolds=3  # 3-fold cross-validation\n",
        "    )\n",
        "\n",
        "    # Modeli eğit\n",
        "    best_model = crossval.fit(df_housing)\n",
        "\n",
        "    # En iyi modeli kaydet\n",
        "    best_models[model_name] = best_model.bestModel\n",
        "\n",
        "    print(f\"{model_name} en iyi modeli seçildi!\\n\")\n"
      ],
      "metadata": {
        "colab": {
          "base_uri": "https://localhost:8080/"
        },
        "id": "Oe8KrdeY-H1a",
        "outputId": "32f25ccf-e04e-442f-bb9e-f60caeb5415e"
      },
      "execution_count": 42,
      "outputs": [
        {
          "output_type": "stream",
          "name": "stdout",
          "text": [
            "LinearRegression modeli eğitiliyor...\n",
            "LinearRegression en iyi modeli seçildi!\n",
            "\n",
            "RandomForest modeli eğitiliyor...\n",
            "RandomForest en iyi modeli seçildi!\n",
            "\n",
            "GBTRegressor modeli eğitiliyor...\n",
            "GBTRegressor en iyi modeli seçildi!\n",
            "\n",
            "GeneralizedLinearRegression modeli eğitiliyor...\n",
            "GeneralizedLinearRegression en iyi modeli seçildi!\n",
            "\n"
          ]
        }
      ]
    },
    {
      "cell_type": "markdown",
      "source": [
        " Modellerin doğruluk metriklerinin analizini grafik bastırarak karşılaştırdım. Ve sonuç olarak en iyi modeli kayıt ettim."
      ],
      "metadata": {
        "id": "hdenVmQkOGO8"
      }
    },
    {
      "cell_type": "code",
      "source": [
        "import pandas as pd\n",
        "import matplotlib.pyplot as plt\n",
        "\n",
        "# Sonuçları kaydet\n",
        "results = []\n",
        "\n",
        "for model_name, model in best_models.items():\n",
        "    predictions = model.transform(df_housing)\n",
        "    rmse = evaluator.evaluate(predictions, {evaluator.metricName: \"rmse\"})\n",
        "    r2 = evaluator.evaluate(predictions, {evaluator.metricName: \"r2\"})\n",
        "    results.append({\"Model\": model_name, \"RMSE\": rmse, \"R²\": r2})\n",
        "\n",
        "# DataFrame'e çevir\n",
        "df_results = pd.DataFrame(results)\n",
        "\n",
        "# Tabloyu yazdır\n",
        "print(df_results)\n",
        "\n",
        "# Grafik Çiz\n",
        "plt.figure(figsize=(10, 5))\n",
        "plt.bar(df_results[\"Model\"], df_results[\"RMSE\"], color=[\"blue\", \"green\", \"red\", \"orange\"])\n",
        "plt.xlabel(\"Model\")\n",
        "plt.ylabel(\"RMSE Değeri\")\n",
        "plt.title(\"Modellerin RMSE Karşılaştırması\")\n",
        "plt.show()\n"
      ],
      "metadata": {
        "colab": {
          "base_uri": "https://localhost:8080/",
          "height": 574
        },
        "id": "afRm884N-RWy",
        "outputId": "c132dca8-84ef-4762-c2c6-c1d508bb2a3b"
      },
      "execution_count": 43,
      "outputs": [
        {
          "output_type": "stream",
          "name": "stdout",
          "text": [
            "                         Model          RMSE        R²\n",
            "0             LinearRegression  69646.373196  0.635717\n",
            "1                 RandomForest  49592.465758  0.815297\n",
            "2                 GBTRegressor  47764.129978  0.828665\n",
            "3  GeneralizedLinearRegression  69646.372817  0.635717\n"
          ]
        },
        {
          "output_type": "display_data",
          "data": {
            "text/plain": [
              "<Figure size 1000x500 with 1 Axes>"
            ],
            "image/png": "[encoded data removed]"
          },
          "metadata": {}
        }
      ]
    },
    {
      "cell_type": "code",
      "source": [
        "# En iyi modeli seç\n",
        "best_model = best_models[\"GBTRegressor\"]\n",
        "\n",
        "# Modeli kaydet\n",
        "best_model.save(\"/content/drive/MyDrive/sparkML/GBT_model\")\n"
      ],
      "metadata": {
        "id": "IQazEZuROOME"
      },
      "execution_count": 46,
      "outputs": []
    }
  ]
}